{
  "nbformat": 4,
  "nbformat_minor": 0,
  "metadata": {
    "kernelspec": {
      "display_name": "Python 3",
      "language": "python",
      "name": "python3"
    },
    "language_info": {
      "codemirror_mode": {
        "name": "ipython",
        "version": 3
      },
      "file_extension": ".py",
      "mimetype": "text/x-python",
      "name": "python",
      "nbconvert_exporter": "python",
      "pygments_lexer": "ipython3",
      "version": "3.7.4"
    },
    "colab": {
      "name": "sonam-Copy1.ipynb",
      "provenance": [],
      "include_colab_link": true
    }
  },
  "cells": [
    {
      "cell_type": "markdown",
      "metadata": {
        "id": "view-in-github",
        "colab_type": "text"
      },
      "source": [
        "<a href=\"https://colab.research.google.com/github/sonam0606/Python_Tutorial/blob/master/sonam_Copy1.ipynb\" target=\"_parent\"><img src=\"https://colab.research.google.com/assets/colab-badge.svg\" alt=\"Open In Colab\"/></a>"
      ]
    },
    {
      "cell_type": "markdown",
      "metadata": {
        "id": "aRyIbjNsRlfA",
        "colab_type": "text"
      },
      "source": [
        "#                                        Python Tutorial                                   "
      ]
    },
    {
      "cell_type": "markdown",
      "metadata": {
        "id": "0l3MhwaYRlfB",
        "colab_type": "text"
      },
      "source": [
        "# Print Statement"
      ]
    },
    {
      "cell_type": "code",
      "metadata": {
        "id": "0XJkv8MXRlfC",
        "colab_type": "code",
        "colab": {},
        "outputId": "374beded-dcf0-4713-eacd-2fe77662b63d"
      },
      "source": [
        "print('Hello World')"
      ],
      "execution_count": 0,
      "outputs": [
        {
          "output_type": "stream",
          "text": [
            "Hello World\n"
          ],
          "name": "stdout"
        }
      ]
    },
    {
      "cell_type": "code",
      "metadata": {
        "id": "wQl5USXyRlfH",
        "colab_type": "code",
        "colab": {},
        "outputId": "bce67333-a778-4bbc-8cba-fef74659c561"
      },
      "source": [
        "## formatting a string using a numeric constant .format function is used for substituoiion in astring\n",
        "## print (\"Hello, I am {} years old !\".format(18))  \n",
        "\n",
        "import platform\n",
        "print('this is version{}'.format(platform.python_version()))"
      ],
      "execution_count": 0,
      "outputs": [
        {
          "output_type": "stream",
          "text": [
            "this is version3.7.4\n"
          ],
          "name": "stdout"
        }
      ]
    },
    {
      "cell_type": "code",
      "metadata": {
        "id": "4uZx8_hxRlfL",
        "colab_type": "code",
        "colab": {},
        "outputId": "f1ca228b-478f-4933-ff23-c356e77d38bc"
      },
      "source": [
        "def main():\n",
        "    print('hello')\n",
        "    \n",
        "    \n",
        "def message():\n",
        "    print('this is version{}'.format(platform.python_version()))\n",
        "    main()\n",
        "print('sonam')\n",
        "\n",
        "if __name__ == '__main__': message()\n",
        "    "
      ],
      "execution_count": 0,
      "outputs": [
        {
          "output_type": "stream",
          "text": [
            "sonam\n",
            "this is version3.7.4\n",
            "hello\n"
          ],
          "name": "stdout"
        }
      ]
    },
    {
      "cell_type": "code",
      "metadata": {
        "id": "uvrgpQbYRlfP",
        "colab_type": "code",
        "colab": {},
        "outputId": "3d296570-12e6-458b-cc1d-19ab01fc4fe9"
      },
      "source": [
        "## insert a numerical value in string using format\n",
        "x = 10\n",
        "y = 20\n",
        "if x < y:\n",
        "    z = 'sonanm'\n",
        "    print('x is {} and y is {}'.format(x,y))"
      ],
      "execution_count": 0,
      "outputs": [
        {
          "output_type": "stream",
          "text": [
            "x is 10 and y is 20\n"
          ],
          "name": "stdout"
        }
      ]
    },
    {
      "cell_type": "code",
      "metadata": {
        "id": "Sgh0vra7RlfS",
        "colab_type": "code",
        "colab": {},
        "outputId": "2c79a050-139b-41bd-a27b-81e29876a926"
      },
      "source": [
        "print('z is {}'.format(z))"
      ],
      "execution_count": 0,
      "outputs": [
        {
          "output_type": "stream",
          "text": [
            "z is 16\n"
          ],
          "name": "stdout"
        }
      ]
    },
    {
      "cell_type": "code",
      "metadata": {
        "id": "i6fhHOg5RlfV",
        "colab_type": "code",
        "colab": {},
        "outputId": "f8fc3d27-00c5-4026-8025-44545618a0d7"
      },
      "source": [
        "z"
      ],
      "execution_count": 0,
      "outputs": [
        {
          "output_type": "execute_result",
          "data": {
            "text/plain": [
              "16"
            ]
          },
          "metadata": {
            "tags": []
          },
          "execution_count": 21
        }
      ]
    },
    {
      "cell_type": "code",
      "metadata": {
        "id": "dryomigfRlfY",
        "colab_type": "code",
        "colab": {},
        "outputId": "8f709970-f2f2-4324-9da8-8755285fd711"
      },
      "source": [
        "z"
      ],
      "execution_count": 0,
      "outputs": [
        {
          "output_type": "execute_result",
          "data": {
            "text/plain": [
              "16"
            ]
          },
          "metadata": {
            "tags": []
          },
          "execution_count": 22
        }
      ]
    },
    {
      "cell_type": "markdown",
      "metadata": {
        "id": "SmSbCOiCRlfb",
        "colab_type": "text"
      },
      "source": [
        "# If and Else"
      ]
    },
    {
      "cell_type": "code",
      "metadata": {
        "id": "4Vm-8OrxRlfc",
        "colab_type": "code",
        "colab": {},
        "outputId": "e0e1070c-d2ca-41bf-b0b0-a0d34d4253f0"
      },
      "source": [
        "## if else and elif\n",
        "x=10\n",
        "y=15\n",
        "if x < 15:\n",
        "    print('less')\n",
        "elif x > 10:\n",
        "    print('wow')\n",
        "else:\n",
        "    print('do smthing else')"
      ],
      "execution_count": 0,
      "outputs": [
        {
          "output_type": "stream",
          "text": [
            "less\n"
          ],
          "name": "stdout"
        }
      ]
    },
    {
      "cell_type": "markdown",
      "metadata": {
        "id": "lpWMQCJoRlff",
        "colab_type": "text"
      },
      "source": [
        "# While and For Loop"
      ]
    },
    {
      "cell_type": "code",
      "metadata": {
        "id": "awjklEcvRlff",
        "colab_type": "code",
        "colab": {},
        "outputId": "b960154e-1199-4d9e-cabc-782ce58ac014"
      },
      "source": [
        "#learn loos\n",
        "words = ['sona','mona','nona','rona']\n",
        "n=0\n",
        "while n < 4:\n",
        "    print(words[n])\n",
        "    n=n+1"
      ],
      "execution_count": 0,
      "outputs": [
        {
          "output_type": "stream",
          "text": [
            "sona\n",
            "mona\n",
            "nona\n",
            "rona\n"
          ],
          "name": "stdout"
        }
      ]
    },
    {
      "cell_type": "code",
      "metadata": {
        "id": "wcIxiaynRlfh",
        "colab_type": "code",
        "colab": {},
        "outputId": "77c4ba3e-7ebb-4e76-9c44-27e289096442"
      },
      "source": [
        "# rember while lood usese indexes and in for we itereate over the word itself\n",
        "new_wrd = ['sona','mona','nona','rona']\n",
        "for i in new_wrd:\n",
        "    print(i)\n"
      ],
      "execution_count": 0,
      "outputs": [
        {
          "output_type": "stream",
          "text": [
            "sona\n",
            "mona\n",
            "nona\n",
            "rona\n"
          ],
          "name": "stdout"
        }
      ]
    },
    {
      "cell_type": "markdown",
      "metadata": {
        "id": "sJptGkO6Rlfj",
        "colab_type": "text"
      },
      "source": [
        "# Create a Function"
      ]
    },
    {
      "cell_type": "code",
      "metadata": {
        "id": "2Xl8rb4qRlfk",
        "colab_type": "code",
        "colab": {},
        "outputId": "12ed5cd7-fb9a-447b-a7d5-b28fb9e687c0"
      },
      "source": [
        "#basic function\n",
        "\n",
        "def banana(n):\n",
        "    print(n)\n",
        "    \n",
        "banana(46)"
      ],
      "execution_count": 0,
      "outputs": [
        {
          "output_type": "stream",
          "text": [
            "46\n"
          ],
          "name": "stdout"
        }
      ]
    },
    {
      "cell_type": "code",
      "metadata": {
        "id": "D876PAquRlfm",
        "colab_type": "code",
        "colab": {},
        "outputId": "a85ffa67-00ac-4785-c61b-c6ac7ddf18a7"
      },
      "source": [
        "#use of return\n",
        "\n",
        "def function(n=4):\n",
        "    print(n)\n",
        "    return 9\n",
        "function(6)\n"
      ],
      "execution_count": 0,
      "outputs": [
        {
          "output_type": "stream",
          "text": [
            "6\n"
          ],
          "name": "stdout"
        },
        {
          "output_type": "execute_result",
          "data": {
            "text/plain": [
              "9"
            ]
          },
          "metadata": {
            "tags": []
          },
          "execution_count": 47
        }
      ]
    },
    {
      "cell_type": "code",
      "metadata": {
        "id": "DAe9srFhRlfo",
        "colab_type": "code",
        "colab": {}
      },
      "source": [
        "def isPrime(n):\n",
        "    if n <= 1:\n",
        "        return False\n",
        "    for x in range(2,n):\n",
        "         if n % 2 == 0:\n",
        "                return False\n",
        "    else:\n",
        "        return True\n",
        "   \n",
        "\n"
      ],
      "execution_count": 0,
      "outputs": []
    },
    {
      "cell_type": "code",
      "metadata": {
        "id": "-nMH5UfeRlfq",
        "colab_type": "code",
        "colab": {}
      },
      "source": [
        "## to make a list\n",
        "def list_primes():\n",
        "    list_empty = []\n",
        "    for n in range(100):\n",
        "        if isPrime(n):\n",
        "            list_empty.append(n)\n",
        "    print(list_empty)\n",
        "    "
      ],
      "execution_count": 0,
      "outputs": []
    },
    {
      "cell_type": "code",
      "metadata": {
        "id": "XHGDRmheRlfs",
        "colab_type": "code",
        "colab": {},
        "outputId": "b43a1d6d-137f-4170-e8bc-16d0c8d7fd9b"
      },
      "source": [
        "list_primes()"
      ],
      "execution_count": 0,
      "outputs": [
        {
          "output_type": "stream",
          "text": [
            "[2, 3, 5, 7, 9, 11, 13, 15, 17, 19, 21, 23, 25, 27, 29, 31, 33, 35, 37, 39, 41, 43, 45, 47, 49, 51, 53, 55, 57, 59, 61, 63, 65, 67, 69, 71, 73, 75, 77, 79, 81, 83, 85, 87, 89, 91, 93, 95, 97, 99]\n"
          ],
          "name": "stdout"
        }
      ]
    },
    {
      "cell_type": "markdown",
      "metadata": {
        "id": "2mSjbM_uRlft",
        "colab_type": "text"
      },
      "source": [
        "# Create a Class"
      ]
    },
    {
      "cell_type": "code",
      "metadata": {
        "id": "vVuAcqSYRlfu",
        "colab_type": "code",
        "colab": {},
        "outputId": "2f103ee4-2c90-429d-e30e-dea2216e1e93"
      },
      "source": [
        "## Create a Class, class object in main fucntion then calling the class methnod from outside the class\n",
        "## use of self: its the reference to the class\n",
        "\n",
        "class Duck:\n",
        "    sound = 'quack!'\n",
        "    gender = 'female'\n",
        "    def duck(self):\n",
        "        print(self.sound)\n",
        "        \n",
        "    def bird(self):\n",
        "        print(self.gender)\n",
        "        \n",
        "\n",
        "def main():\n",
        "    donald = Duck()\n",
        "    donald.duck()\n",
        "    donald.bird()\n",
        "    \n",
        "if __name__ == '__main__': main()"
      ],
      "execution_count": 0,
      "outputs": [
        {
          "output_type": "stream",
          "text": [
            "quack!\n",
            "female\n"
          ],
          "name": "stdout"
        }
      ]
    },
    {
      "cell_type": "code",
      "metadata": {
        "id": "vxvec-58Rlfv",
        "colab_type": "code",
        "colab": {},
        "outputId": "7579a140-d275-40dd-c42d-986d5d56dba9"
      },
      "source": [
        "# strings are object\n",
        "cracks = 'best snack'.upper()\n",
        "print(cracks)\n",
        "\n",
        "x = 'seven is {} but not {}'.format(7,8)\n",
        "print(x)"
      ],
      "execution_count": 0,
      "outputs": [
        {
          "output_type": "stream",
          "text": [
            "BEST SNACK\n",
            "seven is 7 but not 8\n"
          ],
          "name": "stdout"
        }
      ]
    },
    {
      "cell_type": "markdown",
      "metadata": {
        "id": "cgCX8WP8Rlfx",
        "colab_type": "text"
      },
      "source": [
        "How to use Range() Function"
      ]
    },
    {
      "cell_type": "code",
      "metadata": {
        "id": "yV6tGRUjRlfx",
        "colab_type": "code",
        "colab": {},
        "outputId": "3bcefb99-ffe2-4fb2-d786-de51bc1df151"
      },
      "source": [
        "# range first paramet is starting point second is end point and third is for stepping\n",
        "x = range(1,10,2)\n",
        "\n",
        "for i in x:\n",
        "    print(i)"
      ],
      "execution_count": 0,
      "outputs": [
        {
          "output_type": "stream",
          "text": [
            "1\n",
            "3\n",
            "5\n",
            "7\n",
            "9\n"
          ],
          "name": "stdout"
        }
      ]
    },
    {
      "cell_type": "markdown",
      "metadata": {
        "id": "HRMvxW_cRlfz",
        "colab_type": "text"
      },
      "source": [
        "Tuples is represented as a = (1,2,3) and list as a = [1,2,3] and dictionary as {'banana':1, 'class':2}. Element is these three can be of any dataype.  lists and dictionaries are mutable , meaning you can change their content without changing their identity Other objects like integers, floats, strings and tuples are objects that can not be changed.\n",
        "Example a[1] = 50 "
      ]
    },
    {
      "cell_type": "markdown",
      "metadata": {
        "id": "o-AFOkTCRlf0",
        "colab_type": "text"
      },
      "source": [
        "# List"
      ]
    },
    {
      "cell_type": "code",
      "metadata": {
        "id": "SSxk41TvRlf0",
        "colab_type": "code",
        "colab": {},
        "outputId": "1638d07e-5da1-4f0c-c068-f9f489e471f8"
      },
      "source": [
        "# example of a list\n",
        "\n",
        "#x = [1,2,3,4,5]\n",
        "x = list(range(10))\n",
        "for i in x:\n",
        "    print(i)\n",
        "print(x[1])"
      ],
      "execution_count": 0,
      "outputs": [
        {
          "output_type": "stream",
          "text": [
            "0\n",
            "1\n",
            "2\n",
            "3\n",
            "4\n",
            "5\n",
            "6\n",
            "7\n",
            "8\n",
            "9\n",
            "1\n"
          ],
          "name": "stdout"
        }
      ]
    },
    {
      "cell_type": "markdown",
      "metadata": {
        "id": "c4N_24-pRlf2",
        "colab_type": "text"
      },
      "source": [
        "# Append and Insert in List"
      ]
    },
    {
      "cell_type": "code",
      "metadata": {
        "id": "MJ7Q-zD-Rlf2",
        "colab_type": "code",
        "colab": {},
        "outputId": "8011b5df-ed82-4cb6-9be8-ed17ae0bb289"
      },
      "source": [
        "def main():\n",
        "    x = ['Apple','Banana','Orange','kiwi']\n",
        "    ind = x.index('Orange')\n",
        "    x.append('Grapes')\n",
        "    x.insert(0,'melon')\n",
        "    x.remove('kiwi')\n",
        "    print('@'.join(x))\n",
        "    print(len())\n",
        "    del x[1:2]\n",
        "    second_fn(x)\n",
        "    \n",
        "def second_fn(n):\n",
        "    for i in n:\n",
        "        print(i, end =\" \", flush=True)\n",
        "main()"
      ],
      "execution_count": 0,
      "outputs": [
        {
          "output_type": "stream",
          "text": [
            "melon@Apple@Banana@Orange@Grapes\n",
            "5\n",
            "melon Banana Orange Grapes "
          ],
          "name": "stdout"
        }
      ]
    },
    {
      "cell_type": "markdown",
      "metadata": {
        "id": "yZlokprNRlf3",
        "colab_type": "text"
      },
      "source": [
        "# Dictionary"
      ]
    },
    {
      "cell_type": "code",
      "metadata": {
        "id": "bMehY3CzRlf4",
        "colab_type": "code",
        "colab": {},
        "outputId": "e0d9cade-ed74-4ae3-c0d1-6c88d56f1c4f"
      },
      "source": [
        "## dictionary_example1\n",
        "new_dict = {'india': 'delhi', 'U.S': 'New Yrk', 'China': 'Beijing'}\n",
        "for i,j in new_dict.items():\n",
        "    print(i,j)"
      ],
      "execution_count": 0,
      "outputs": [
        {
          "output_type": "stream",
          "text": [
            "india delhi\n",
            "U.S New Yrk\n",
            "China Beijing\n"
          ],
          "name": "stdout"
        }
      ]
    },
    {
      "cell_type": "code",
      "metadata": {
        "id": "YQA9_Kp2Rlf5",
        "colab_type": "code",
        "colab": {},
        "outputId": "20db4000-92c9-4a19-acd5-2ad4d8224fef"
      },
      "source": [
        "## dictionary_example\n",
        "new_dict = dict(kitten = 'meow', puppy = 'ruff', lion = 'grrr')\n",
        "for i in new_dict.keys():\n",
        "    print(i)\n",
        "    \n",
        "for i in new_dict.values():\n",
        "    print(i)\n",
        "    \n",
        "print(new_dict['kitten'])\n",
        "\n"
      ],
      "execution_count": 0,
      "outputs": [
        {
          "output_type": "stream",
          "text": [
            "kitten\n",
            "puppy\n",
            "lion\n",
            "meow\n",
            "ruff\n",
            "grrr\n",
            "meow\n"
          ],
          "name": "stdout"
        }
      ]
    },
    {
      "cell_type": "markdown",
      "metadata": {
        "id": "-FEu-y7vRlf6",
        "colab_type": "text"
      },
      "source": [
        "Remeber that in dictionary if you want to print both the key and values then you need to use .items()."
      ]
    },
    {
      "cell_type": "markdown",
      "metadata": {
        "id": "pODNrt4dRlf6",
        "colab_type": "text"
      },
      "source": [
        "As discussed above dictionary is mutable. lets try it!"
      ]
    },
    {
      "cell_type": "code",
      "metadata": {
        "id": "WU6BUsAVRlf7",
        "colab_type": "code",
        "colab": {},
        "outputId": "671f71be-ae80-41f8-c8d1-d95d532bb331"
      },
      "source": [
        "new_dict = {'india': 'delhi', 'U.S': 'New Yrk', 'China': 'Beijing'}\n",
        "new_dict['China']='New_Beijing'\n",
        "for i,j in new_dict.items():\n",
        "    print(i,j)"
      ],
      "execution_count": 0,
      "outputs": [
        {
          "output_type": "stream",
          "text": [
            "india delhi\n",
            "U.S New Yrk\n",
            "China New_Beijing\n"
          ],
          "name": "stdout"
        }
      ]
    },
    {
      "cell_type": "markdown",
      "metadata": {
        "id": "GyUdZ3xGRlf8",
        "colab_type": "text"
      },
      "source": [
        "# Sets"
      ]
    },
    {
      "cell_type": "code",
      "metadata": {
        "id": "EHB8BEJZRlf8",
        "colab_type": "code",
        "colab": {},
        "outputId": "7e3244c1-6ba1-467e-b15c-8f39457312eb"
      },
      "source": [
        "#Unordered list of uniques characters. Sets does not allow duplicates.\n",
        "# you can check members of one set that ar not in other by a - b or other operations like a&b\n",
        "\n",
        "a = set('Its a beauitful day.')\n",
        "b = set('Its a beautiful morning')\n",
        "print(','.join(a))\n",
        "\n",
        "\n",
        "\n"
      ],
      "execution_count": 0,
      "outputs": [
        {
          "output_type": "stream",
          "text": [
            "b, ,i,l,.,t,I,a,d,y,u,e,f,s\n"
          ],
          "name": "stdout"
        }
      ]
    },
    {
      "cell_type": "markdown",
      "metadata": {
        "id": "Ol-WvaPfRlf9",
        "colab_type": "text"
      },
      "source": [
        "# Print type "
      ]
    },
    {
      "cell_type": "code",
      "metadata": {
        "id": "phYaGMs8Rlf-",
        "colab_type": "code",
        "colab": {}
      },
      "source": [
        "x = (1,'two',[1,2],3)\n",
        "y = [1,(1,2),'three']"
      ],
      "execution_count": 0,
      "outputs": []
    },
    {
      "cell_type": "code",
      "metadata": {
        "id": "Gt7UCQ8hRlf_",
        "colab_type": "code",
        "colab": {},
        "outputId": "82204059-020b-47ea-c5aa-23abde2e5408"
      },
      "source": [
        "print(type(x))\n",
        "print(type(y))\n",
        "print(type(x[2]))\n",
        "print(type(y[2]))\n",
        "\n",
        "## if you want to write a conditional statement like if(type(x)) == 'tuple' it will not work, instead use a \n",
        "## special function called isinstance\n",
        "\n"
      ],
      "execution_count": 0,
      "outputs": [
        {
          "output_type": "stream",
          "text": [
            "<class 'tuple'>\n",
            "<class 'list'>\n",
            "<class 'list'>\n",
            "<class 'str'>\n"
          ],
          "name": "stdout"
        }
      ]
    },
    {
      "cell_type": "markdown",
      "metadata": {
        "id": "DOlldL46RlgA",
        "colab_type": "text"
      },
      "source": [
        "if you want to write a conditional statement like if(type(x)) == 'tuple' it will not work, instead use a \n",
        "special function called isinstance."
      ]
    },
    {
      "cell_type": "code",
      "metadata": {
        "id": "ZcIkFTNARlgA",
        "colab_type": "code",
        "colab": {}
      },
      "source": [
        ""
      ],
      "execution_count": 0,
      "outputs": []
    },
    {
      "cell_type": "code",
      "metadata": {
        "id": "dlPbcKGSRlgB",
        "colab_type": "code",
        "colab": {},
        "outputId": "70b9466d-fc2b-4e3d-eff4-096598683199"
      },
      "source": [
        "if isinstance(y, tuple):\n",
        "    print(\"tuple\")\n",
        "elif isinstance(y, list):\n",
        "    print(\"list\")\n",
        "else:\n",
        "    print(\"nope\")"
      ],
      "execution_count": 0,
      "outputs": [
        {
          "output_type": "stream",
          "text": [
            "list\n"
          ],
          "name": "stdout"
        }
      ]
    },
    {
      "cell_type": "markdown",
      "metadata": {
        "id": "3mzjEMpnRlgC",
        "colab_type": "text"
      },
      "source": [
        "# Ternary Conditonal Assignment : a if condition else b"
      ]
    },
    {
      "cell_type": "code",
      "metadata": {
        "id": "JMTw1k_tRlgC",
        "colab_type": "code",
        "colab": {},
        "outputId": "06c8c487-9676-40be-c184-193ff33ddb29"
      },
      "source": [
        "#rain = True\n",
        "rain = 1\n",
        "x = 'carry an umbrella' if rain else 'Dont need to carry'\n",
        "print(x)"
      ],
      "execution_count": 0,
      "outputs": [
        {
          "output_type": "stream",
          "text": [
            "carry an umbrella\n"
          ],
          "name": "stdout"
        }
      ]
    },
    {
      "cell_type": "markdown",
      "metadata": {
        "id": "BgRwRmCpRlgD",
        "colab_type": "text"
      },
      "source": [
        "## Object is called by reference"
      ]
    },
    {
      "cell_type": "code",
      "metadata": {
        "id": "pywMDy2yRlgE",
        "colab_type": "code",
        "colab": {},
        "outputId": "a429fd01-0c22-421c-e31e-69018e654a81"
      },
      "source": [
        "def main():\n",
        "    x = [5]\n",
        "    kitten(x)\n",
        "    print('value is:{}'.format(x))\n",
        "\n",
        "def kitten(n):\n",
        "    n[0] = 2\n",
        "    print(n)\n",
        "    print('meow')\n",
        "\n",
        "    \n",
        "if __name__ == '__main__': main()"
      ],
      "execution_count": 0,
      "outputs": [
        {
          "output_type": "stream",
          "text": [
            "[2]\n",
            "meow\n",
            "value is:[2]\n"
          ],
          "name": "stdout"
        }
      ]
    },
    {
      "cell_type": "markdown",
      "metadata": {
        "id": "aMS37P1ORlgF",
        "colab_type": "text"
      },
      "source": [
        "## Arguement List"
      ]
    },
    {
      "cell_type": "code",
      "metadata": {
        "id": "3XeFoFr0RlgF",
        "colab_type": "code",
        "colab": {},
        "outputId": "e9e8cf36-ad24-45b5-a058-c850b5f1045d"
      },
      "source": [
        "def kitten(*args):\n",
        "    if len(args):\n",
        "        for i in args:\n",
        "            print(i)\n",
        "    else:\n",
        "        print('none')\n",
        "\n",
        "\n",
        "\n",
        "kitten('mena','nena','siya','roya')\n",
        "\n"
      ],
      "execution_count": 0,
      "outputs": [
        {
          "output_type": "stream",
          "text": [
            "mena\n",
            "nena\n",
            "siya\n",
            "roya\n"
          ],
          "name": "stdout"
        }
      ]
    },
    {
      "cell_type": "markdown",
      "metadata": {
        "id": "9l54iG1xRlgG",
        "colab_type": "text"
      },
      "source": [
        "# Keyword Arguments"
      ]
    },
    {
      "cell_type": "code",
      "metadata": {
        "id": "OjWSuIHkRlgG",
        "colab_type": "code",
        "colab": {},
        "outputId": "8faddce9-636d-4391-8bc6-c2efc77a526b"
      },
      "source": [
        "def main():\n",
        "    x = dict(Monday = 1,Tuesday = 2)\n",
        "    week(**x)\n",
        "    \n",
        "def week(**kwargs):\n",
        "    #print(kwargs['Monday'])\n",
        "    for i in kwargs:\n",
        "        print('weekday {} is the {} day in week'.format(i,kwargs[i]))\n",
        "        \n",
        "main()\n",
        "    "
      ],
      "execution_count": 0,
      "outputs": [
        {
          "output_type": "stream",
          "text": [
            "weekday Monday is the 1 day in week\n",
            "weekday Tuesday is the 2 day in week\n"
          ],
          "name": "stdout"
        }
      ]
    },
    {
      "cell_type": "markdown",
      "metadata": {
        "id": "IMsg_4DXRlgH",
        "colab_type": "text"
      },
      "source": [
        "# Decorators"
      ]
    },
    {
      "cell_type": "code",
      "metadata": {
        "id": "JSqD5D9YRlgH",
        "colab_type": "code",
        "colab": {},
        "outputId": "8b2815c2-c4fc-463e-86c6-8d1b28435f27"
      },
      "source": [
        "def country(n):\n",
        "    def state():\n",
        "        print(\"this is the main link\")\n",
        "        n()\n",
        "        print(\"this is the second link\")\n",
        "    return state\n",
        "\n",
        "def city():\n",
        "    print(\"this is the smallest link\")\n",
        "    \n",
        "x=country(city)\n",
        "x()"
      ],
      "execution_count": 0,
      "outputs": [
        {
          "output_type": "stream",
          "text": [
            "this is the main link\n",
            "this is the smallest link\n",
            "this is the second link\n"
          ],
          "name": "stdout"
        }
      ]
    },
    {
      "cell_type": "markdown",
      "metadata": {
        "id": "ZhgDf5zcRlgI",
        "colab_type": "text"
      },
      "source": [
        "above code can be modifed with the help of decorator as below:"
      ]
    },
    {
      "cell_type": "code",
      "metadata": {
        "id": "t4002UvARlgJ",
        "colab_type": "code",
        "colab": {},
        "outputId": "281e65de-bf67-483a-d33d-65a756027d0d"
      },
      "source": [
        "def country(n):\n",
        "    def state():\n",
        "        print(\"this is the main link\")\n",
        "        n()\n",
        "        print(\"this is the second link\")\n",
        "    return state\n",
        "\n",
        "@country\n",
        "def city():\n",
        "    print(\"this is the smallest link\")\n",
        "    \n",
        "city()"
      ],
      "execution_count": 0,
      "outputs": [
        {
          "output_type": "stream",
          "text": [
            "this is the main link\n",
            "this is the smallest link\n",
            "this is the second link\n"
          ],
          "name": "stdout"
        }
      ]
    },
    {
      "cell_type": "markdown",
      "metadata": {
        "id": "A8rNPV6LRlgK",
        "colab_type": "text"
      },
      "source": [
        "# List Comprehension"
      ]
    },
    {
      "cell_type": "code",
      "metadata": {
        "id": "DSWM1PtURlgK",
        "colab_type": "code",
        "colab": {},
        "outputId": "bd70149d-3fb2-4eaa-e0ef-fe9a64a56b68"
      },
      "source": [
        "x = range(15)\n",
        "for i in x:\n",
        "    print(i)\n",
        "    \n",
        "x_1=[i*2 for i in x]\n",
        "print(x_1)\n",
        "\n",
        "#if can be used  after for or before\n",
        "x_2 = [i if i%3 == 1 else 0 for i in x_1]\n",
        "print(x_2)\n",
        "\n",
        "x_3 = [i for i in x_1 if i%3 == 1]\n",
        "print(x_3)\n",
        "\n",
        "#comprehension for dictionary\n",
        "\n",
        "x_3 = {i:i*2 for i in x_1}\n",
        "print(x_3)"
      ],
      "execution_count": 0,
      "outputs": [
        {
          "output_type": "stream",
          "text": [
            "0\n",
            "1\n",
            "2\n",
            "3\n",
            "4\n",
            "5\n",
            "6\n",
            "7\n",
            "8\n",
            "9\n",
            "10\n",
            "11\n",
            "12\n",
            "13\n",
            "14\n",
            "[0, 2, 4, 6, 8, 10, 12, 14, 16, 18, 20, 22, 24, 26, 28]\n",
            "[0, 0, 4, 0, 0, 10, 0, 0, 16, 0, 0, 22, 0, 0, 28]\n",
            "[4, 10, 16, 22, 28]\n",
            "{0: 0, 2: 4, 4: 8, 6: 12, 8: 16, 10: 20, 12: 24, 14: 28, 16: 32, 18: 36, 20: 40, 22: 44, 24: 48, 26: 52, 28: 56}\n"
          ],
          "name": "stdout"
        }
      ]
    },
    {
      "cell_type": "markdown",
      "metadata": {
        "id": "P1EfBBRXRlgL",
        "colab_type": "text"
      },
      "source": [
        "# Constructing an Object"
      ]
    },
    {
      "cell_type": "code",
      "metadata": {
        "id": "ATqGzLkVRlgL",
        "colab_type": "code",
        "colab": {},
        "outputId": "139d7d85-a38e-4870-f80b-20a49f8d18ca"
      },
      "source": [
        "# if you use self then that variable  can be accessed inside any functioin of that class\n",
        "class Animal:\n",
        "    #class constructor which acts as an intializor, first parmtr is always self,object variable always have _\n",
        "    # '_' signifies that variable is private and should not be accessed directly ,always use a method to access them\n",
        "    def __init__(self, type, name, sound):\n",
        "        self._type = type\n",
        "        self._name = name\n",
        "        self._sound = sound\n",
        "    #getter method i below and the value is set above\n",
        "    #if first arguement is self then it is a method not a function\n",
        "    def type(self):\n",
        "        return self._type\n",
        "    def name(self):\n",
        "        return self._name\n",
        "    def sound(self):\n",
        "        return self._sound\n",
        "def print_animal(o):\n",
        "    #isinstance checks that o is animal type object\n",
        "    if not isinstance(o, Animal):\n",
        "        raise TypeError('print_animal(): requires an Animal')\n",
        "    print('The {} is named \"{}\" and says \"{}\"'.format(o.type(), o.name(), o.sound()))\n",
        "    \n",
        "def main():\n",
        "    #creating object of the main class and initializing iwth various parameters\n",
        "    a0 = Animal('k','m','b')\n",
        "    print_animal(a0)\n",
        "\n",
        "    \n",
        "    \n",
        "if __name__ == '__main__': main()"
      ],
      "execution_count": 0,
      "outputs": [
        {
          "output_type": "stream",
          "text": [
            "The k is named \"m\" and says \"b\"\n"
          ],
          "name": "stdout"
        }
      ]
    },
    {
      "cell_type": "markdown",
      "metadata": {
        "id": "x61_AQAFRlgM",
        "colab_type": "text"
      },
      "source": [
        "# Splitting and Joining String"
      ]
    },
    {
      "cell_type": "code",
      "metadata": {
        "id": "sRHId1iORlgN",
        "colab_type": "code",
        "colab": {},
        "outputId": "3eacd6fd-382a-4687-df95-eafa30a85a0d"
      },
      "source": [
        "s = 'This is a very very long string'\n",
        "\n",
        "a = s.split()\n",
        "b = '*'.join(a)\n",
        "print(b)"
      ],
      "execution_count": 0,
      "outputs": [
        {
          "output_type": "stream",
          "text": [
            "This*is*a*very*very*long*string\n"
          ],
          "name": "stdout"
        }
      ]
    },
    {
      "cell_type": "markdown",
      "metadata": {
        "id": "jotf2sgPRlgO",
        "colab_type": "text"
      },
      "source": [
        "# Opening a File "
      ]
    },
    {
      "cell_type": "code",
      "metadata": {
        "id": "jvxWGOGkRlgO",
        "colab_type": "code",
        "colab": {},
        "outputId": "19094fe4-db8f-40d7-d245-ad12f45d39bb"
      },
      "source": [
        "# rstrip will remove any whitespace including new line\n",
        "#by default 'open' opens in read only mode\n",
        "f = open('day.txt')\n",
        "for line in f:\n",
        "    print(line.rstrip())\n",
        "\n",
        "\n",
        "\n"
      ],
      "execution_count": 0,
      "outputs": [
        {
          "output_type": "stream",
          "text": [
            "this is a beautiful day\n",
            "but tomorrow was better\n",
            "it may rain today\n"
          ],
          "name": "stdout"
        }
      ]
    },
    {
      "cell_type": "markdown",
      "metadata": {
        "id": "FeMgFkPxRlgP",
        "colab_type": "text"
      },
      "source": [
        "Use of enumerate to get the index:\n"
      ]
    },
    {
      "cell_type": "code",
      "metadata": {
        "id": "sgTCKxFIRlgQ",
        "colab_type": "code",
        "colab": {},
        "outputId": "9d1af65a-cce7-45bf-eb28-0419c3f464df"
      },
      "source": [
        "animal = ('Tiger','Dog','Cat')\n",
        "for i,j in enumerate(animal): print(f'{i}:{j}')"
      ],
      "execution_count": 0,
      "outputs": [
        {
          "output_type": "stream",
          "text": [
            "0:Tiger\n",
            "1:Dog\n",
            "2:Cat\n"
          ],
          "name": "stdout"
        }
      ]
    },
    {
      "cell_type": "code",
      "metadata": {
        "id": "DqFnBJkHRlgR",
        "colab_type": "code",
        "colab": {},
        "outputId": "72185642-9316-44fa-aaa7-1f8e672c96e6"
      },
      "source": [
        "import sys\n",
        "import os\n",
        "import datetime\n",
        "\n",
        "\n",
        "v = sys.version\n",
        "print(v)\n",
        "\n",
        "time = datetime.datetime.now()\n",
        "print(time)\n",
        "\n",
        "#current working directory\n"
      ],
      "execution_count": 0,
      "outputs": [
        {
          "output_type": "stream",
          "text": [
            "3.7.4 (default, Aug 13 2019, 15:17:50) \n",
            "[Clang 4.0.1 (tags/RELEASE_401/final)]\n",
            "2020-04-06 12:35:06.963006\n"
          ],
          "name": "stdout"
        }
      ]
    },
    {
      "cell_type": "code",
      "metadata": {
        "id": "I7MK1ELiRlgR",
        "colab_type": "code",
        "colab": {}
      },
      "source": [
        ""
      ],
      "execution_count": 0,
      "outputs": []
    }
  ]
}